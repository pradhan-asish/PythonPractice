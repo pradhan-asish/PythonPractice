{
 "cells": [
  {
   "cell_type": "code",
   "execution_count": 1,
   "id": "886a62d2",
   "metadata": {},
   "outputs": [],
   "source": [
    "import requests\n"
   ]
  },
  {
   "cell_type": "code",
   "execution_count": 2,
   "id": "0e2c0363",
   "metadata": {},
   "outputs": [],
   "source": [
    "url = \"https://authoraditiagarwal.com/wpcontent/uploads/2018/05/MetaSlider_ThinkBig-1080x180.jpg\"\n"
   ]
  },
  {
   "cell_type": "code",
   "execution_count": 3,
   "id": "50d48361",
   "metadata": {},
   "outputs": [],
   "source": [
    "r = requests.get(url) \n"
   ]
  },
  {
   "cell_type": "code",
   "execution_count": 4,
   "id": "06f7ae84",
   "metadata": {},
   "outputs": [],
   "source": [
    "with open(\"ThinkBig.png\",'wb') as f:\n",
    "    f.write(r.content) "
   ]
  },
  {
   "cell_type": "code",
   "execution_count": null,
   "id": "76ce216f",
   "metadata": {},
   "outputs": [],
   "source": []
  }
 ],
 "metadata": {
  "kernelspec": {
   "display_name": "Python 3",
   "language": "python",
   "name": "python3"
  },
  "language_info": {
   "codemirror_mode": {
    "name": "ipython",
    "version": 3
   },
   "file_extension": ".py",
   "mimetype": "text/x-python",
   "name": "python",
   "nbconvert_exporter": "python",
   "pygments_lexer": "ipython3",
   "version": "3.8.8"
  }
 },
 "nbformat": 4,
 "nbformat_minor": 5
}
