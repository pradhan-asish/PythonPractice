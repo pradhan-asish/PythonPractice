{
 "cells": [
  {
   "cell_type": "code",
   "execution_count": 1,
   "id": "03511859",
   "metadata": {},
   "outputs": [],
   "source": [
    "import requests\n"
   ]
  },
  {
   "cell_type": "code",
   "execution_count": 2,
   "id": "702f6382",
   "metadata": {},
   "outputs": [],
   "source": [
    "url = \"https://authoraditiagarwal.com/wpcontent/uploads/2018/05/MetaSlider_ThinkBig-1080x180.jpg\"\n"
   ]
  },
  {
   "cell_type": "code",
   "execution_count": 3,
   "id": "0f3acf62",
   "metadata": {},
   "outputs": [],
   "source": [
    "r = requests.get(url) \n"
   ]
  },
  {
   "cell_type": "code",
   "execution_count": 4,
   "id": "b75efa5a",
   "metadata": {},
   "outputs": [],
   "source": [
    "with open(\"ThinkBig.png\",'wb') as f:\n",
    "    f.write(r.content) "
   ]
  },
  {
   "cell_type": "code",
   "execution_count": 12,
   "id": "fecb40d7",
   "metadata": {},
   "outputs": [
    {
     "name": "stdout",
     "output_type": "stream",
     "text": [
      "Date\n",
      "Server\n",
      "Vary\n",
      "Cache-Control\n",
      "Keep-Alive\n",
      "Connection\n",
      "Transfer-Encoding\n",
      "Content-Type\n"
     ]
    }
   ],
   "source": [
    "import urllib3\n",
    "import os\n",
    "url = \"https://authoraditiagarwal.com/wpcontent/uploads/2018/05/MetaSlider_ThinkBig-1080x180.jpg\"\n",
    "r = requests.get(url, allow_redirects=True)\n",
    "for headers in r.headers: print(headers)\n"
   ]
  },
  {
   "cell_type": "code",
   "execution_count": null,
   "id": "775f5599",
   "metadata": {},
   "outputs": [],
   "source": []
  }
 ],
 "metadata": {
  "kernelspec": {
   "display_name": "Python 3",
   "language": "python",
   "name": "python3"
  },
  "language_info": {
   "codemirror_mode": {
    "name": "ipython",
    "version": 3
   },
   "file_extension": ".py",
   "mimetype": "text/x-python",
   "name": "python",
   "nbconvert_exporter": "python",
   "pygments_lexer": "ipython3",
   "version": "3.8.8"
  }
 },
 "nbformat": 4,
 "nbformat_minor": 5
}
