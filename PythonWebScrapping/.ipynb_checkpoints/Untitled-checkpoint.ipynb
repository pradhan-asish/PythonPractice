{
 "cells": [
  {
   "cell_type": "code",
   "execution_count": 2,
   "id": "ce416b49",
   "metadata": {},
   "outputs": [],
   "source": [
    "import requests\n",
    "from bs4 import BeautifulSoup\n",
    "import pandas as pd"
   ]
  },
  {
   "cell_type": "code",
   "execution_count": 3,
   "id": "dd5bf250",
   "metadata": {},
   "outputs": [],
   "source": [
    "html_data = requests.get('https://en.wikipedia.org/wiki/List_of_largest_banks')"
   ]
  },
  {
   "cell_type": "code",
   "execution_count": 4,
   "id": "de2c0fe2",
   "metadata": {},
   "outputs": [
    {
     "data": {
      "text/plain": [
       "'List of largest banks -'"
      ]
     },
     "execution_count": 4,
     "metadata": {},
     "output_type": "execute_result"
    }
   ],
   "source": [
    "html_data.text[101:124]"
   ]
  },
  {
   "cell_type": "code",
   "execution_count": 5,
   "id": "040c361a",
   "metadata": {},
   "outputs": [],
   "source": [
    "soup = BeautifulSoup(html_data.content)"
   ]
  },
  {
   "cell_type": "code",
   "execution_count": 7,
   "id": "c75b5000",
   "metadata": {},
   "outputs": [],
   "source": [
    "data = pd.DataFrame(columns=[\"Name\",\"Market Cap (US$ Billion)\"])"
   ]
  },
  {
   "cell_type": "code",
   "execution_count": null,
   "id": "ab363c3d",
   "metadata": {},
   "outputs": [],
   "source": []
  }
 ],
 "metadata": {
  "kernelspec": {
   "display_name": "Python 3",
   "language": "python",
   "name": "python3"
  },
  "language_info": {
   "codemirror_mode": {
    "name": "ipython",
    "version": 3
   },
   "file_extension": ".py",
   "mimetype": "text/x-python",
   "name": "python",
   "nbconvert_exporter": "python",
   "pygments_lexer": "ipython3",
   "version": "3.8.8"
  }
 },
 "nbformat": 4,
 "nbformat_minor": 5
}
