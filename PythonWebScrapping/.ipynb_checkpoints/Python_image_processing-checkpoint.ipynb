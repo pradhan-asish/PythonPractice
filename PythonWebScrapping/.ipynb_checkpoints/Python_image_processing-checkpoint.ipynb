{
 "cells": [
  {
   "cell_type": "code",
   "execution_count": 1,
   "id": "0935e6f2",
   "metadata": {},
   "outputs": [],
   "source": [
    "import requests\n"
   ]
  },
  {
   "cell_type": "code",
   "execution_count": 2,
   "id": "6ea7e084",
   "metadata": {},
   "outputs": [],
   "source": [
    "url = \"https://authoraditiagarwal.com/wpcontent/uploads/2018/05/MetaSlider_ThinkBig-1080x180.jpg\"\n"
   ]
  },
  {
   "cell_type": "code",
   "execution_count": 3,
   "id": "5ca90744",
   "metadata": {},
   "outputs": [],
   "source": [
    "r = requests.get(url) \n"
   ]
  },
  {
   "cell_type": "code",
   "execution_count": 4,
   "id": "54fca69d",
   "metadata": {},
   "outputs": [],
   "source": [
    "with open(\"ThinkBig.png\",'wb') as f:\n",
    "    f.write(r.content) "
   ]
  },
  {
   "cell_type": "code",
   "execution_count": 12,
   "id": "317bc23e",
   "metadata": {},
   "outputs": [
    {
     "name": "stdout",
     "output_type": "stream",
     "text": [
      "Date\n",
      "Server\n",
      "Vary\n",
      "Cache-Control\n",
      "Keep-Alive\n",
      "Connection\n",
      "Transfer-Encoding\n",
      "Content-Type\n"
     ]
    }
   ],
   "source": [
    "import urllib3\n",
    "import os\n",
    "url = \"https://authoraditiagarwal.com/wpcontent/uploads/2018/05/MetaSlider_ThinkBig-1080x180.jpg\"\n",
    "r = requests.get(url, allow_redirects=True)\n",
    "for headers in r.headers: print(headers)\n"
   ]
  },
  {
   "cell_type": "code",
   "execution_count": 13,
   "id": "1e024cbe",
   "metadata": {},
   "outputs": [
    {
     "name": "stdout",
     "output_type": "stream",
     "text": [
      "text/html; charset=UTF-8\n"
     ]
    }
   ],
   "source": [
    "print (r.headers.get('content-type'))\n"
   ]
  },
  {
   "cell_type": "code",
   "execution_count": 14,
   "id": "6ea2e882",
   "metadata": {},
   "outputs": [
    {
     "name": "stdout",
     "output_type": "stream",
     "text": [
      "None\n"
     ]
    }
   ],
   "source": [
    "print (r.headers.get('ETag'))\n"
   ]
  },
  {
   "cell_type": "code",
   "execution_count": 15,
   "id": "6073c5bd",
   "metadata": {},
   "outputs": [
    {
     "name": "stdout",
     "output_type": "stream",
     "text": [
      "None\n"
     ]
    }
   ],
   "source": [
    "print (r.headers.get('content-length'))\n"
   ]
  },
  {
   "cell_type": "code",
   "execution_count": 16,
   "id": "9b21f80b",
   "metadata": {},
   "outputs": [
    {
     "name": "stdout",
     "output_type": "stream",
     "text": [
      "Apache\n"
     ]
    }
   ],
   "source": [
    "print (r.headers.get('Server'))\n"
   ]
  },
  {
   "cell_type": "code",
   "execution_count": 21,
   "id": "93785746",
   "metadata": {},
   "outputs": [],
   "source": [
    "import glob\n",
    "from PIL import Image\n",
    "for infile in glob.glob(\"Stock\"):\n",
    "    img = Image.open(infile)\n",
    "    img.thumbnail((128, 128), Image.ANTIALIAS)\n",
    "    if infile[0:2] != \"Th_\":\n",
    "        img.save(\"Th_\" + infile, \"jpg\")"
   ]
  },
  {
   "cell_type": "code",
   "execution_count": null,
   "id": "935c6ea7",
   "metadata": {},
   "outputs": [],
   "source": []
  }
 ],
 "metadata": {
  "kernelspec": {
   "display_name": "Python 3",
   "language": "python",
   "name": "python3"
  },
  "language_info": {
   "codemirror_mode": {
    "name": "ipython",
    "version": 3
   },
   "file_extension": ".py",
   "mimetype": "text/x-python",
   "name": "python",
   "nbconvert_exporter": "python",
   "pygments_lexer": "ipython3",
   "version": "3.8.8"
  }
 },
 "nbformat": 4,
 "nbformat_minor": 5
}
