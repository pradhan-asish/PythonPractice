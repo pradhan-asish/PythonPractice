{
 "cells": [
  {
   "cell_type": "code",
   "execution_count": 39,
   "id": "12f519bf",
   "metadata": {},
   "outputs": [
    {
     "name": "stdout",
     "output_type": "stream",
     "text": [
      "C:\\Users\\HP\\Desktop\\GitHub\\Python\\PythonPractice\n",
      "['.git', '.ipynb_checkpoints', 'ConditionProgram.py', 'FilenamesExamples.ipynb', 'firstProgram.py', 'README.md', 'RegexExam.py', 'RegexExample2.ipynb', 'RegexExample3.ipynb', 'RegexExample4.ipynb', 'regexExamples.ipynb', 'TryCatchExam.py', 'Untitled.ipynb', 'Untitled1.ipynb', 'Untitled2.ipynb', 'userFunctions.py', 'whileCondition.py']\n",
      "112\n",
      "True\n",
      "C:\\Users\\HP\\Desktop\\GitHub\\Python\n",
      "['.ipynb_checkpoints', 'PythonPractice', 'PythonProgram']\n",
      "C:\\Users\\HP\\Desktop\\GitHub\\Python\\PythonPractice\n",
      "D:Apple\\Banana\\Mango\n",
      "C:\\Users\\HP\\Desktop\\GitHub\\Python\n",
      "..\\..\\..\\..\\..\\Public\\Music\n"
     ]
    }
   ],
   "source": [
    "import os\n",
    "\n",
    "print(os.getcwd()) ## to get current working directory\n",
    "print(os.listdir()) ## to fetch content of folder\n",
    "print(os.path.getsize('ConditionProgram.py')) ##to get the size of file in bytes\n",
    "print(os.path.exists('ConditionProgram.py')) ##to check whether a file exists in adirectory or not\n",
    "os.chdir('..\\\\') ## to move to previous root folder\n",
    "print(os.getcwd()) \n",
    "print(os.listdir()) \n",
    "os.chdir('.\\\\PythonPractice')\n",
    "print(os.getcwd())\n",
    "print(os.path.join('D:','Apple','Banana','Mango')) ## to join the folders\n",
    "\n",
    "if not os.path.isdir(os.path.join('D:','Apple','Banana','Mango')):\n",
    "   os.makedirs(os.path.join('D:','Apple','Banana','Mango')) ## to make directories\n",
    "\n",
    "print(os.path.abspath('..\\\\'))  ## to find the absoulute path of a directory\n",
    "print(os.path.relpath('C:\\\\Users\\\\Public\\\\Music')) ## to find the relative path of directory with respect to curent directory\n",
    "\n"
   ]
  },
  {
   "cell_type": "code",
   "execution_count": null,
   "id": "1b543f09",
   "metadata": {},
   "outputs": [],
   "source": []
  }
 ],
 "metadata": {
  "kernelspec": {
   "display_name": "Python 3",
   "language": "python",
   "name": "python3"
  },
  "language_info": {
   "codemirror_mode": {
    "name": "ipython",
    "version": 3
   },
   "file_extension": ".py",
   "mimetype": "text/x-python",
   "name": "python",
   "nbconvert_exporter": "python",
   "pygments_lexer": "ipython3",
   "version": "3.8.8"
  }
 },
 "nbformat": 4,
 "nbformat_minor": 5
}
