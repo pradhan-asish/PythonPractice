{
 "cells": [
  {
   "cell_type": "code",
   "execution_count": 1,
   "id": "7a3b3dab",
   "metadata": {},
   "outputs": [
    {
     "name": "stdout",
     "output_type": "stream",
     "text": [
      "Number of pages : 4\n",
      "\n",
      "Page:0\n",
      "ANNEXURE - IIIINFORMATION SHEET Name                   :  Asish PradhanCandidate ID        :  10005518531. Role and Competency Based OrganizationInfosys Limited (\"Infosys\" or \"Company\") has a role and competency based structure. A \"role\" is defined as a set ofresponsibilities and accountabilities assigned to or expected to be carried out by a person or group.All HR processes such as selection, training requirements, career planning, growth and compensation and benefits are based onthis structure.At Infosys, for senior management, there are titles such as Associate Vice President, Vice President, Senior Vice President andExecutive Vice President. For employees holding such titles, all policies related to compensation and benefits are based on thetitle and role of the individual.2. Probation Period and Confirmation as a Permanent Employee You will be on probation for a period of six months from your date of joining the Company and may be confirmed as a permanentemployee upon successful completion of your probation. Please note that as per Company policy, you would be confirmed on the1st day of the month succeeding the month of completion of probation of six months from the date of joining the Company orafter the period of probation, whichever is later. Employees joining on the first working day of the month will get confirmed on1st of the month in which they complete their probation period. In addition to your performance during the probationary period, your confirmation as a permanent employee is subject to yoursubmitting the documents required by the Company. Two copies of the following (To be provided on the date of your joining theCompany. Please refer to the clause on `Background Checks` for further details) will constitute the required documents:1. Class 10 (or equivalent) Marks Sheet/s2. Class 12 (or equivalent) Marks Sheet/s3. Graduation Marks Sheet/s 4. Final Graduation Degree Certificate 5. Post-Graduation Marks Sheet/s (if applicable) 6. Diploma Certificate (if applicable) 7. Relieving letter/experience letter (in case you are already employed) from all previous employers (as applicable)  8. Passport 9. National Skills Registry 10. PAN Card (Under Income Tax laws, disclosure of your Permanent Account Number (PAN) to Infosys Limited ismandatory. Please disclose your PAN to Infosys on or before 30 days from the day of joining and note that disclosure ofPAN is a pre-condition for your confirmation into the system). Please note that the above mentioned documents should be approved by the Employee Relations team and uploaded into thee-docket application 15 days prior to the due date of confirmation. Your confirmation with the Company may be withheld if youfail to submit the aforementioned documents. Your confirmation or extension of probation, as the case may be will be governed bythe Company's Confirmation Policy.Page 1 of  4Company Confidential - This communication is confidential between you and Infosys Limited \n",
      "Page:1\n",
      "3. Leave You will be eligible for 15 working days of Earned Leave annually during your probation. This shall be credited on a quarterlybasis as per the table below: Year€/€QuarterNumber of DaysQuarter€14Quarter€24Quarter€34Quarter€43Total15Please note that in above table quarter 1 denotes the quarter you have joined and should not be read by financial year quarterdefinition.Illustration:If an employee joins the Company in quarter two of the financial year 2020-21, the quarter two of the financial year 2020-21 willbe considered as the first quarter for the purpose of leave credit. Please note that leave days shall be credited on a pro-rata basis inthe first quarter of your employment.Post confirmation, you will be eligible for 20 working days of leave annually. The same will be credited from the quarterfollowing your confirmation, in the below pattern:Year€/€QuarterNumber of DaysQuarter€15Quarter€25Quarter€35Quarter€45Total20Further details will be provided to you at the time of joining. 4. Business Related ExpensesYou will be required to claim all business related expenses and settle all dues within 30 days of incurring the expenditure. Expenseclaims, which are received after 30 days from the date of incurring the expenditure, will be deemed to be unauthorized. Also, anyunsettled dues post the aforementioned period would be deducted from the salary.5. Ex gratia/BonusYou will be eligible for an Ex gratia/Bonus payout which is calculated at 20% of the Basic Salary  as mentioned in theCompensation Details sheet of this letter. The mode of payment for Financial Year 2020-21 will be as follows:  95% of the Bonus amount mentioned in the Compensation Details sheet will be paid out on a monthly basis.  The balance amount will be paid out in the end of the financial year. The mode of payment for each Financial Year will bedetermined at the beginning of the same. Illustration:Bonus amount mentioned in the Compensation Details sheet (at 100%) for a certain employee is INR 1,000 per month. 95% ofthis amount, i.e. INR 950, would be paid out to the employee per month. The balance amount of INR 50 per month shall beconsolidated and paid out at the end of the financial year. Page 2 of  4Company Confidential - This communication is confidential between you and Infosys Limited \n",
      "Page:2\n",
      "6. Basket of Allowances (BOA) The Basket of Allowances will be paid to you as part of your salary every month. You will have the flexibility of choosing the components and amounts under such components as per the options provided to youon the Company intranet, based on your preferences and income tax plans.  7. National Pension SchemeWe offer all our India based employees the option to contribute towards the National Pension Scheme. Any contribution made byan employer to the employee's Tier I NPS account will be exempt from taxes for the employee. This would be over and above theINR 1.5 lakh exemption limit defined under section 80C of the IT Act. The exemption from taxes is available for a maximumcontribution of 10% of Basic Salary  of the employee in a Financial Year.DetailsYour contribution to NPS will be carved out of your Basket of Allowances (BOA) as a separate component and will be equal tothe amount you intend to allocate under NPS. This amount will be directly remitted to the Point of Presence Bank associated withInfosys. BOA less NPS will continue to be paid through monthly payroll. A maximum of 20% of your Basic Salary can be allocated towards NPS. A minimum contribution of INR 6,000 is requiredannually and INR 500 per contribution. You can open a Tier 1 account with ICICI Bank if you wish to contribute to NPS. If you already have an existing Tier 1 accountwith any other bank, you will need to transfer the same to ICICI Bank as that is the Point of Presence Bank for Infosys employees.You can read the Policy, FAQs and the process document available on our Intranet for all the details once you join. The ICICIbranches on our campuses will also help you with your queries. 8. Information Security The role and responsibilities related to Information Security for all employees are outlined in the Information Security Policy ofInfosys, which every employee is expected to abide by. All Information Security standards and guidelines will also be applicableto you. In addition, for roles that are privy to more sensitive information, specific Information Security responsibilities will becommunicated at the time of joining. 9. National Skills Registry Infosys has always believed in surpassing customer expectations and has created several new benchmarks and standards insecurity, service and quality, and in order to do this, we have maintained a strong focus on compliance. The National SkillsRegistry\" of NASSCOM, ensures more effective information security standards. In case you have not registered yourself with|National Skills Registry|, you would be required to do so prior to your joining Infosys Limited irrespective of the nature of yourrole with us. The cost of your registration with National Skills Registry will have to be borne by you. For more information onnational skills registry for registration, please visit |www.nationalskillsregistry.com|. This kit contains the document onsteps/procedures for NSR registration.\"10. Linkage of UAN and AADHAR Card NumberAs per the directions of the Employees Provident Fund Organization (\"EPFO\") it is mandatory KYC requirement for allemployees to link their Aadhaar card number with their provident fund Universal Account Number (\"UAN\").  Hence, to complywith the obligations under the Employees Provident Funds and Miscellaneous Provisions Act 1952 (\"EPF Act\") and also foravailing the benefits under the EPF Act, you are required to disclose either your Aadhaar card number or the Aadhaar enrollmentnumber as applicable, at the time of joining. Please note that Infosys Limited would not be liable for your inability to avail thebenefits provided under the EPF Act due to the non-linkage of your Aadhaar card number to your UAN.Page 3 of  4Company Confidential - This communication is confidential between you and Infosys Limited \n",
      "Page:3\n",
      "11. Meal Voucher Meal Voucher Scheme in India allows employees to set apart some amount from their gross salary to be spent on meals while atwork, and avail tax benefits on such expenses. Under this policy, full time employees can select from the below monthly option: Option 1 - INR 3,300Option 2 - INR 2,200Option 3 - INR 1,100Meal vouchers are made available as a meal wallet on the Infosys ID card, in partnership with ICICI. These meal vouchers can beutilized within the Infosys campus, at food joints only. Upon completion of joining formalities, you will receive the requiredinformation that will enable you to enroll for the benefitNote: This document only gives indicative details of the different plans and procedures applicable to employees. Theimplementation of the plans mentioned here is governed by policies of Infosys and applicable legal agencies, and may changefrom time to time without prior notice. Latest details and specifics of each plan are available with the Human Resourcesdepartment. Page 4 of  4Company Confidential - This communication is confidential between you and Infosys Limited \n"
     ]
    }
   ],
   "source": [
    "import PyPDF2,os\n",
    "\n",
    "pdfFile = open('InformationSheet.pdf','rb') ## to open PDF file\n",
    "reader = PyPDF2.PdfFileReader(pdfFile)\n",
    "print('Number of pages :', reader.numPages)\n",
    "page1 = reader.getPage(0)\n",
    "print()\n",
    "\n",
    "## TO read all the files of pdf\n",
    "for i in range(reader.numPages):\n",
    "    print('Page:'+str(i))\n",
    "    print(reader.getPage(i).extractText())\n",
    "\n"
   ]
  },
  {
   "cell_type": "code",
   "execution_count": null,
   "id": "9b69d042",
   "metadata": {},
   "outputs": [],
   "source": []
  }
 ],
 "metadata": {
  "kernelspec": {
   "display_name": "Python 3",
   "language": "python",
   "name": "python3"
  },
  "language_info": {
   "codemirror_mode": {
    "name": "ipython",
    "version": 3
   },
   "file_extension": ".py",
   "mimetype": "text/x-python",
   "name": "python",
   "nbconvert_exporter": "python",
   "pygments_lexer": "ipython3",
   "version": "3.8.8"
  }
 },
 "nbformat": 4,
 "nbformat_minor": 5
}
