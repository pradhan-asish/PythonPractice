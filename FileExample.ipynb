{
 "cells": [
  {
   "cell_type": "code",
   "execution_count": 3,
   "id": "077da308",
   "metadata": {},
   "outputs": [
    {
     "name": "stdout",
     "output_type": "stream",
     "text": [
      "I am Asish.\n",
      "I work in a MNC.\n",
      "I love to play football and Cricket.\n"
     ]
    }
   ],
   "source": [
    "file = open('C:\\\\Users\\\\HP\\\\Desktop\\\\media\\\\Example.txt') ## to open a file\n",
    "text = file.read() ## to read a file\n",
    "print(text) ## to print a file\n",
    "file.close() ## to close a file\n"
   ]
  },
  {
   "cell_type": "code",
   "execution_count": null,
   "id": "d2955e45",
   "metadata": {},
   "outputs": [],
   "source": []
  }
 ],
 "metadata": {
  "kernelspec": {
   "display_name": "Python 3",
   "language": "python",
   "name": "python3"
  },
  "language_info": {
   "codemirror_mode": {
    "name": "ipython",
    "version": 3
   },
   "file_extension": ".py",
   "mimetype": "text/x-python",
   "name": "python",
   "nbconvert_exporter": "python",
   "pygments_lexer": "ipython3",
   "version": "3.8.8"
  }
 },
 "nbformat": 4,
 "nbformat_minor": 5
}
