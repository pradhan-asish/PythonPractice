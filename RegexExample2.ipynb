{
 "cells": [
  {
   "cell_type": "code",
   "execution_count": 7,
   "id": "025f6842",
   "metadata": {},
   "outputs": [
    {
     "name": "stdout",
     "output_type": "stream",
     "text": [
      "Batwoman\n",
      "Batwowowoman\n",
      "Batwowowoman\n"
     ]
    }
   ],
   "source": [
    "import re\n",
    "\n",
    "batmanRegex = re.compile(r'Bat(wo)?man')\n",
    "mo = batmanRegex.search('I am Batwoman')\n",
    "print(mo.group())\n",
    "\n",
    "\n",
    "batmanRegex = re.compile(r'Bat(wo)+man')\n",
    "mo = batmanRegex.search('I am Batwowowoman')\n",
    "print(mo.group())\n",
    "\n",
    "batmanRegex = re.compile(r'Bat(wo)*man')\n",
    "mo = batmanRegex.search('I am Batwowowoman')\n",
    "print(mo.group())"
   ]
  },
  {
   "cell_type": "code",
   "execution_count": null,
   "id": "e85170dd",
   "metadata": {},
   "outputs": [],
   "source": []
  }
 ],
 "metadata": {
  "kernelspec": {
   "display_name": "Python 3",
   "language": "python",
   "name": "python3"
  },
  "language_info": {
   "codemirror_mode": {
    "name": "ipython",
    "version": 3
   },
   "file_extension": ".py",
   "mimetype": "text/x-python",
   "name": "python",
   "nbconvert_exporter": "python",
   "pygments_lexer": "ipython3",
   "version": "3.8.8"
  }
 },
 "nbformat": 4,
 "nbformat_minor": 5
}
