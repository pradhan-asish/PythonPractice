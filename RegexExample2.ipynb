{
 "cells": [
  {
   "cell_type": "code",
   "execution_count": 7,
   "id": "4a20a7da",
   "metadata": {},
   "outputs": [
    {
     "name": "stdout",
     "output_type": "stream",
     "text": [
      "Batwoman\n",
      "Batwowowoman\n",
      "Batwowowoman\n"
     ]
    }
   ],
   "source": [
    "import re\n",
    "\n",
    "batmanRegex = re.compile(r'Bat(wo)?man')\n",
    "mo = batmanRegex.search('I am Batwoman')\n",
    "print(mo.group())\n",
    "\n",
    "batmanRegex = re.compile(r'Bat(wo)+man')\n",
    "mo = batmanRegex.search('I am Batwowowoman')\n",
    "print(mo.group())\n",
    "\n",
    "batmanRegex = re.compile(r'Bat(wo)*man')\n",
    "mo = batmanRegex.search('I am Batwowowoman')\n",
    "print(mo.group())"
   ]
  },
  {
   "cell_type": "code",
   "execution_count": 16,
   "id": "0a038af0",
   "metadata": {},
   "outputs": [
    {
     "name": "stdout",
     "output_type": "stream",
     "text": [
      "Batwowowoman\n",
      "Batwowowowoman\n",
      "Batwowowowoman\n",
      "Batwowowowoman\n",
      "Batwowoman\n"
     ]
    }
   ],
   "source": [
    "import re\n",
    "\n",
    "batmanRegex = re.compile(r'Bat(wo){3}man')\n",
    "mo = batmanRegex.search('I am Batwowowoman')\n",
    "print(mo.group())\n",
    "\n",
    "batmanRegex = re.compile(r'Bat(wo){2,}man')\n",
    "mo = batmanRegex.search('I am Batwowowowoman')\n",
    "print(mo.group())\n",
    "\n",
    "batmanRegex = re.compile(r'Bat(wo){2,5}man')\n",
    "mo = batmanRegex.search('I am Batwowowowoman')\n",
    "print(mo.group())\n",
    "\n",
    "batmanRegex = re.compile(r'Bat(wo){,6}man')\n",
    "mo = batmanRegex.search('I am Batwowowowoman')\n",
    "print(mo.group())\n",
    "\n",
    "batmanRegex = re.compile(r'Bat(wo){2}man')\n",
    "mo = batmanRegex.search('I am Batwowoman')\n",
    "print(mo.group())\n",
    "\n"
   ]
  },
  {
   "cell_type": "code",
   "execution_count": 32,
   "id": "201209c6",
   "metadata": {},
   "outputs": [
    {
     "name": "stdout",
     "output_type": "stream",
     "text": [
      "('432', '543-432')\n",
      "['I', 'a', 'A', 'i', 'u', 'a', 'a', 'a']\n",
      "[' ', 'm', ' ', 's', 's', 'h', ' ', 'K', 'm', 'r', ' ', 'P', 'r', 'd', 'h', 'n']\n",
      "['1 piper', '2 soda', '3 wishkey']\n",
      "['er,', ' 2 ', 'da,', ' 3 ', 'ey ', 'df ', 'sd ']\n"
     ]
    }
   ],
   "source": [
    "import re\n",
    "\n",
    "mobileRegex = re.compile(r'(\\d\\d\\d)-(\\d\\d\\d-\\d\\d\\d)')\n",
    "mo = mobileRegex.findall('123-223-123, 432-543-432 , My phone number is 098-987-543')\n",
    "print(mo[1])\n",
    "\n",
    "alphRegex = re.compile(r'[aeiouAEIOU]')\n",
    "mo = alphRegex.findall('I am Asish Kumar Pradhan')\n",
    "print(mo)\n",
    "\n",
    "alphRegex = re.compile(r'[^aeiouAEIOU]')\n",
    "mo = alphRegex.findall('I am Asish Kumar Pradhan')\n",
    "print(mo)\n",
    "\n",
    "\n",
    "wordsRegex = re.compile(r'\\d\\s\\w+')\n",
    "mo = wordsRegex.findall('1 piper, 2 soda, 3 wishkey')\n",
    "print(mo)\n",
    "\n",
    "\n",
    "wordsRegex = re.compile(r'\\D\\S\\W')\n",
    "mo = wordsRegex.findall('1 piper, 2 soda, 3 wishkey dsdf sdfsd dd')\n",
    "print(mo)"
   ]
  },
  {
   "cell_type": "code",
   "execution_count": null,
   "id": "5a1c885a",
   "metadata": {},
   "outputs": [],
   "source": []
  }
 ],
 "metadata": {
  "kernelspec": {
   "display_name": "Python 3",
   "language": "python",
   "name": "python3"
  },
  "language_info": {
   "codemirror_mode": {
    "name": "ipython",
    "version": 3
   },
   "file_extension": ".py",
   "mimetype": "text/x-python",
   "name": "python",
   "nbconvert_exporter": "python",
   "pygments_lexer": "ipython3",
   "version": "3.8.8"
  }
 },
 "nbformat": 4,
 "nbformat_minor": 5
}
