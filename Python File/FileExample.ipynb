{
 "cells": [
  {
   "cell_type": "code",
   "execution_count": 3,
   "id": "8fdf1cb3",
   "metadata": {},
   "outputs": [
    {
     "name": "stdout",
     "output_type": "stream",
     "text": [
      "I am Asish.\n",
      "I work in a MNC.\n",
      "I love to play football and Cricket.\n"
     ]
    }
   ],
   "source": [
    "file = open('C:\\\\Users\\\\HP\\\\Desktop\\\\media\\\\Example.txt') ## to open a file\n",
    "text = file.read() ## to read a file\n",
    "print(text) ## to print a file\n",
    "file.close() ## to close a file\n"
   ]
  },
  {
   "cell_type": "code",
   "execution_count": 5,
   "id": "f6639efd",
   "metadata": {},
   "outputs": [
    {
     "name": "stdout",
     "output_type": "stream",
     "text": [
      "I am Asish Kumar.\n",
      " I like to do coding.\n",
      " I like to do I am Asish Kumar.\n",
      " I like to do coding.\n",
      " I like to do \n"
     ]
    }
   ],
   "source": [
    "file = open('C:\\\\Users\\\\HP\\\\Desktop\\\\media\\\\Example1.txt','a') ## to create file or append or write something in the file\n",
    "text = 'I am Asish Kumar.\\n I like to do coding.\\n I like to do '\n",
    "file.write(text)\n",
    "file.close()\n",
    "file1= open('C:\\\\Users\\\\HP\\\\Desktop\\\\media\\\\Example1.txt')\n",
    "print(file1.read())\n",
    "file1.close()"
   ]
  },
  {
   "cell_type": "code",
   "execution_count": 11,
   "id": "779f1506",
   "metadata": {},
   "outputs": [
    {
     "name": "stdout",
     "output_type": "stream",
     "text": [
      "['Messi', 'Ronaldo', 'Neymar']\n"
     ]
    }
   ],
   "source": [
    "import shelve\n",
    "shelfFile = shelve.open('C:\\\\Users\\\\HP\\\\Desktop\\\\media\\\\Example2') ## to create shelve\n",
    "shelfFile['Footballer'] = ['Messi','Ronaldo','Neymar']\n",
    "shelfFile.close()\n",
    "shelf = shelve.open('C:\\\\Users\\\\HP\\\\Desktop\\\\media\\\\Example2') ## to open shelve and read shelve\n",
    "print(shelf['Footballer'])\n",
    "shelf.close()\n"
   ]
  },
  {
   "cell_type": "code",
   "execution_count": null,
   "id": "75358356",
   "metadata": {},
   "outputs": [],
   "source": []
  }
 ],
 "metadata": {
  "kernelspec": {
   "display_name": "Python 3",
   "language": "python",
   "name": "python3"
  },
  "language_info": {
   "codemirror_mode": {
    "name": "ipython",
    "version": 3
   },
   "file_extension": ".py",
   "mimetype": "text/x-python",
   "name": "python",
   "nbconvert_exporter": "python",
   "pygments_lexer": "ipython3",
   "version": "3.8.8"
  }
 },
 "nbformat": 4,
 "nbformat_minor": 5
}
