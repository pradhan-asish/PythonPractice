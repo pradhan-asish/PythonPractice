{
 "cells": [
  {
   "cell_type": "code",
   "execution_count": 17,
   "id": "fcf84542",
   "metadata": {},
   "outputs": [
    {
     "name": "stdout",
     "output_type": "stream",
     "text": [
      "False\n",
      "True\n",
      "True\n",
      "False\n",
      "True\n",
      "False\n",
      "True\n",
      "False\n"
     ]
    }
   ],
   "source": [
    "import os, shutil,send2trash\n",
    "\n",
    "## function to create file\n",
    "def createfile(fileName):\n",
    "    file = open(fileName,'a') ## to create file or append or write something in the file\n",
    "    text = 'I am Asish Kumar.\\n I like to do coding.\\n I like to do '\n",
    "    file.write(text)\n",
    "    file.close()\n",
    "## function to create folder\n",
    "def createfolder(folderName):\n",
    "    os.makedirs(folderName)\n",
    "   \n",
    "os.unlink('C:\\\\Users\\\\HP\\\\Desktop\\\\media\\\\Example1.txt') ## to delete a file\n",
    "print(os.path.exists('C:\\\\Users\\\\HP\\\\Desktop\\\\media\\\\Example1.txt'))\n",
    "createfile('C:\\\\Users\\\\HP\\\\Desktop\\\\media\\\\Example1.txt')\n",
    "print(os.path.exists('C:\\\\Users\\\\HP\\\\Desktop\\\\media\\\\Example1.txt'))\n",
    "l_dummy_dir = 'C:\\\\Users\\\\HP\\\\Desktop\\\\media\\\\DummyFolder'\n",
    "\n",
    "## to check directory exists or not\n",
    "if not os.path.isdir(l_dummy_dir) :\n",
    "    createfolder(l_dummy_dir)   \n",
    "print(os.path.isdir(l_dummy_dir))\n",
    "##os.rmdir(l_dummy_dir) ## command to remove direcotory\n",
    "shutil.rmtree(l_dummy_dir) ## to remove all the contents as well as directory of the given directory\n",
    "print(os.path.isdir(l_dummy_dir))\n",
    "createfolder(l_dummy_dir) \n",
    "print(os.path.isdir(l_dummy_dir))\n",
    "\n",
    "l_dummy_dir1 = 'C:\\\\Users\\\\HP\\\\Desktop\\\\media\\\\DummyFolder1\\\\Dump\\\\BadFolder'\n",
    "\n",
    "if not os.path.isdir(l_dummy_dir1) :\n",
    "    createfolder(l_dummy_dir1)   \n",
    "shutil.rmtree(l_dummy_dir1) ## to remove all the contents as well as directory of the given directory\n",
    "print(os.path.isdir(l_dummy_dir1))\n",
    "createfolder(l_dummy_dir1) \n",
    "print(os.path.isdir(l_dummy_dir1))\n",
    "\n",
    "if not os.path.exists(l_dummy_dir1+'\\\\Example1.txt') :\n",
    "    createfile(l_dummy_dir1+'\\\\Example1.txt')\n",
    "send2trash.send2trash(l_dummy_dir1+'\\\\Example1.txt') ## Command to sned the files to recycle bin\n",
    "print(os.path.exists(l_dummy_dir1+'\\\\Example1.txt'))\n",
    "\n",
    "\n"
   ]
  },
  {
   "cell_type": "code",
   "execution_count": null,
   "id": "71a2852b",
   "metadata": {},
   "outputs": [],
   "source": []
  },
  {
   "cell_type": "code",
   "execution_count": null,
   "id": "708f1c1e",
   "metadata": {},
   "outputs": [],
   "source": []
  },
  {
   "cell_type": "code",
   "execution_count": null,
   "id": "6ba313fa",
   "metadata": {},
   "outputs": [],
   "source": []
  }
 ],
 "metadata": {
  "kernelspec": {
   "display_name": "Python 3",
   "language": "python",
   "name": "python3"
  },
  "language_info": {
   "codemirror_mode": {
    "name": "ipython",
    "version": 3
   },
   "file_extension": ".py",
   "mimetype": "text/x-python",
   "name": "python",
   "nbconvert_exporter": "python",
   "pygments_lexer": "ipython3",
   "version": "3.8.8"
  }
 },
 "nbformat": 4,
 "nbformat_minor": 5
}
