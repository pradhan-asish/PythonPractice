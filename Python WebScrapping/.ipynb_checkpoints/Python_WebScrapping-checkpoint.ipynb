{
 "cells": [
  {
   "cell_type": "code",
   "execution_count": 1,
   "id": "bb550bd6",
   "metadata": {},
   "outputs": [],
   "source": [
    "import requests"
   ]
  },
  {
   "cell_type": "code",
   "execution_count": 2,
   "id": "59c78886",
   "metadata": {},
   "outputs": [],
   "source": [
    "r = requests.get('https://authoraditiagarwal.com/')"
   ]
  },
  {
   "cell_type": "code",
   "execution_count": 5,
   "id": "228d692d",
   "metadata": {},
   "outputs": [
    {
     "data": {
      "text/plain": [
       "'<!DOCTYPE html><html lang=\"en-US\" id=\"html\"><head><meta charset=\"UTF-8\" /><meta http-equiv=\"X-UA-Compatible\" content=\"IE=10\" /><link rel=\"profile\" href=\"http://gmpg.org/xfn/11\" /><link rel=\"pingback\" '"
      ]
     },
     "execution_count": 5,
     "metadata": {},
     "output_type": "execute_result"
    }
   ],
   "source": [
    "r.text[:200]"
   ]
  },
  {
   "cell_type": "code",
   "execution_count": 6,
   "id": "5352ee34",
   "metadata": {},
   "outputs": [
    {
     "name": "stdout",
     "output_type": "stream",
     "text": [
      "<title>Learn and grow together</title>\n",
      "Learn and grow together\n"
     ]
    }
   ],
   "source": [
    "import urllib3\n",
    "from bs4 import BeautifulSoup\n",
    "http = urllib3.PoolManager()\n",
    "r = http.request('GET', 'https://authoraditiagarwal.com')\n",
    "soup = BeautifulSoup(r.data, 'lxml')\n",
    "print (soup.title)\n",
    "print (soup.title.text)"
   ]
  },
  {
   "cell_type": "code",
   "execution_count": 8,
   "id": "9c058581",
   "metadata": {},
   "outputs": [],
   "source": [
    "from selenium import webdriver\n"
   ]
  },
  {
   "cell_type": "code",
   "execution_count": null,
   "id": "c1b5f1ef",
   "metadata": {},
   "outputs": [],
   "source": []
  }
 ],
 "metadata": {
  "kernelspec": {
   "display_name": "Python 3",
   "language": "python",
   "name": "python3"
  },
  "language_info": {
   "codemirror_mode": {
    "name": "ipython",
    "version": 3
   },
   "file_extension": ".py",
   "mimetype": "text/x-python",
   "name": "python",
   "nbconvert_exporter": "python",
   "pygments_lexer": "ipython3",
   "version": "3.8.8"
  }
 },
 "nbformat": 4,
 "nbformat_minor": 5
}
