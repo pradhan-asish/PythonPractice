{
 "cells": [
  {
   "cell_type": "code",
   "execution_count": 19,
   "id": "e60351bd",
   "metadata": {},
   "outputs": [
    {
     "name": "stdout",
     "output_type": "stream",
     "text": [
      "<class 'openpyxl.workbook.workbook.Workbook'>\n",
      "['Sheet 1', 'Sheet 1 (2)']\n",
      "<Cell 'Sheet 1'.A1>\n",
      "ACNO\n",
      "SERIES\n",
      "SERIES\n",
      "EDNO\n",
      "EDNO\n",
      "EDNO\n",
      "EDNO\n",
      "EDNO\n",
      "EDNO\n"
     ]
    }
   ],
   "source": [
    "import openpyxl, os\n",
    "workbook = openpyxl.load_workbook('sample_data.xlsx')\n",
    "print(type(workbook))\n",
    "print(workbook.sheetnames)\n",
    "sheet = workbook['Sheet 1']\n",
    "cell = sheet['A1']\n",
    "\n",
    "print(sheet['A1'])\n",
    "print(cell.value)\n",
    "\n",
    "print(sheet.cell(row=1,column = 2).value)\n",
    "\n",
    "for i in range(1,8):\n",
    "    print(sheet.cell(row = i ,column = 2).value)\n",
    "        \n",
    "    "
   ]
  },
  {
   "cell_type": "code",
   "execution_count": null,
   "id": "981fc7c6",
   "metadata": {},
   "outputs": [],
   "source": []
  }
 ],
 "metadata": {
  "kernelspec": {
   "display_name": "Python 3",
   "language": "python",
   "name": "python3"
  },
  "language_info": {
   "codemirror_mode": {
    "name": "ipython",
    "version": 3
   },
   "file_extension": ".py",
   "mimetype": "text/x-python",
   "name": "python",
   "nbconvert_exporter": "python",
   "pygments_lexer": "ipython3",
   "version": "3.8.8"
  }
 },
 "nbformat": 4,
 "nbformat_minor": 5
}
