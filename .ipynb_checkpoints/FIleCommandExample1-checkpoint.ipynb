{
 "cells": [
  {
   "cell_type": "code",
   "execution_count": 3,
   "id": "ac656be4",
   "metadata": {},
   "outputs": [
    {
     "name": "stdout",
     "output_type": "stream",
     "text": [
      "False\n",
      "True\n"
     ]
    }
   ],
   "source": [
    "import os\n",
    "\n",
    "def createfile(fileName):\n",
    "    file = open(fileName,'a') ## to create file or append or write something in the file\n",
    "    text = 'I am Asish Kumar.\\n I like to do coding.\\n I like to do '\n",
    "    file.write(text)\n",
    "    file.close()\n",
    "\n",
    "def createfolder(folderName):\n",
    "    os.makedirs(folderName)\n",
    "   \n",
    "os.unlink('C:\\\\Users\\\\HP\\\\Desktop\\\\media\\\\Example1.txt') ## to delete a file\n",
    "print(os.path.exists('C:\\\\Users\\\\HP\\\\Desktop\\\\media\\\\Example1.txt'))\n",
    "createfile('C:\\\\Users\\\\HP\\\\Desktop\\\\media\\\\Example1.txt')\n",
    "print(os.path.exists('C:\\\\Users\\\\HP\\\\Desktop\\\\media\\\\Example1.txt'))\n",
    "createfolder('C:\\\\Users\\\\HP\\\\Desktop\\\\media\\\\DummyFolder')\n",
    "\n",
    "\n",
    "\n"
   ]
  },
  {
   "cell_type": "code",
   "execution_count": null,
   "id": "06af3118",
   "metadata": {},
   "outputs": [],
   "source": []
  }
 ],
 "metadata": {
  "kernelspec": {
   "display_name": "Python 3",
   "language": "python",
   "name": "python3"
  },
  "language_info": {
   "codemirror_mode": {
    "name": "ipython",
    "version": 3
   },
   "file_extension": ".py",
   "mimetype": "text/x-python",
   "name": "python",
   "nbconvert_exporter": "python",
   "pygments_lexer": "ipython3",
   "version": "3.8.8"
  }
 },
 "nbformat": 4,
 "nbformat_minor": 5
}
