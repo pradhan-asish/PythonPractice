{
 "cells": [
  {
   "cell_type": "code",
   "execution_count": 8,
   "id": "8fc274f0",
   "metadata": {},
   "outputs": [
    {
     "name": "stdout",
     "output_type": "stream",
     "text": [
      "False\n",
      "True\n",
      "True\n",
      "False\n",
      "True\n"
     ]
    }
   ],
   "source": [
    "import os\n",
    "\n",
    "def createfile(fileName):\n",
    "    file = open(fileName,'a') ## to create file or append or write something in the file\n",
    "    text = 'I am Asish Kumar.\\n I like to do coding.\\n I like to do '\n",
    "    file.write(text)\n",
    "    file.close()\n",
    "\n",
    "def createfolder(folderName):\n",
    "    os.makedirs(folderName)\n",
    "   \n",
    "os.unlink('C:\\\\Users\\\\HP\\\\Desktop\\\\media\\\\Example1.txt') ## to delete a file\n",
    "print(os.path.exists('C:\\\\Users\\\\HP\\\\Desktop\\\\media\\\\Example1.txt'))\n",
    "createfile('C:\\\\Users\\\\HP\\\\Desktop\\\\media\\\\Example1.txt')\n",
    "print(os.path.exists('C:\\\\Users\\\\HP\\\\Desktop\\\\media\\\\Example1.txt'))\n",
    "l_dummy_dir = 'C:\\\\Users\\\\HP\\\\Desktop\\\\media\\\\DummyFolder'\n",
    "if not os.path.isdir(l_dummy_dir) :\n",
    "    createfolder(l_dummy_dir)\n",
    "print(os.path.isdir(l_dummy_dir))\n",
    "os.rmdir(l_dummy_dir)\n",
    "print(os.path.isdir(l_dummy_dir))\n",
    "createfolder(l_dummy_dir)\n",
    "print(os.path.isdir(l_dummy_dir))\n",
    "\n",
    "\n"
   ]
  },
  {
   "cell_type": "code",
   "execution_count": null,
   "id": "e2cafc27",
   "metadata": {},
   "outputs": [],
   "source": []
  },
  {
   "cell_type": "code",
   "execution_count": null,
   "id": "b5610bee",
   "metadata": {},
   "outputs": [],
   "source": []
  }
 ],
 "metadata": {
  "kernelspec": {
   "display_name": "Python 3",
   "language": "python",
   "name": "python3"
  },
  "language_info": {
   "codemirror_mode": {
    "name": "ipython",
    "version": 3
   },
   "file_extension": ".py",
   "mimetype": "text/x-python",
   "name": "python",
   "nbconvert_exporter": "python",
   "pygments_lexer": "ipython3",
   "version": "3.8.8"
  }
 },
 "nbformat": 4,
 "nbformat_minor": 5
}
