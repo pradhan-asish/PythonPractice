{
 "cells": [
  {
   "cell_type": "code",
   "execution_count": 7,
   "id": "a65603e0",
   "metadata": {},
   "outputs": [
    {
     "name": "stdout",
     "output_type": "stream",
     "text": [
      "<openpyxl.workbook.workbook.Workbook object at 0x00000207798D4400>\n",
      "['Sheet']\n",
      "None\n",
      "Asish\n",
      "Kumar\n",
      "Pradhan\n",
      "Deepak\n",
      "['Sheet']\n",
      "['Sheet', 'New Sheet 1']\n",
      "['Sheet', 'New Sheet 2']\n"
     ]
    }
   ],
   "source": [
    "import openpyxl,os\n",
    "wb = openpyxl.Workbook()\n",
    "print(wb)\n",
    "print(wb.sheetnames)\n",
    "sheet1 = wb['Sheet']\n",
    "print(sheet1['A1'].value)\n",
    "\n",
    "sheet1['A1'].value = 'Asish'\n",
    "sheet1['A2'].value = 'Kumar'\n",
    "sheet1['A3'].value = 'Pradhan'\n",
    "sheet1['A4'].value = 'Deepak'\n",
    "sheet1['A5'].value = 'Deepak'\n",
    "sheet1['A6'].value = 'Samnata'\n",
    "\n",
    "wb.save('Example2.xlsx')\n",
    "\n",
    "wb1 = openpyxl.load_workbook('Example1.xlsx')\n",
    "sheet1 = wb['Sheet']\n",
    "\n",
    "for i in range(1,5):\n",
    "    print(sheet1.cell(row = i , column = 1).value)\n",
    "\n",
    "    \n",
    "print(wb1.sheetnames)\n",
    "\n",
    "wb1.create_sheet('New Sheet 1')\n",
    "\n",
    "print(wb1.sheetnames)\n",
    "\n",
    "## Changing the tiltle of sheet\n",
    "\n",
    "sheet2 = wb1['New Sheet 1']\n",
    "sheet2.title = 'New Sheet 2'\n",
    "    \n",
    "print(wb1.sheetnames)\n"
   ]
  },
  {
   "cell_type": "code",
   "execution_count": null,
   "id": "00ad0afc",
   "metadata": {},
   "outputs": [],
   "source": []
  }
 ],
 "metadata": {
  "kernelspec": {
   "display_name": "Python 3",
   "language": "python",
   "name": "python3"
  },
  "language_info": {
   "codemirror_mode": {
    "name": "ipython",
    "version": 3
   },
   "file_extension": ".py",
   "mimetype": "text/x-python",
   "name": "python",
   "nbconvert_exporter": "python",
   "pygments_lexer": "ipython3",
   "version": "3.8.8"
  }
 },
 "nbformat": 4,
 "nbformat_minor": 5
}
