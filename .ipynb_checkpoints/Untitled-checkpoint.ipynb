{
 "cells": [
  {
   "cell_type": "code",
   "execution_count": 4,
   "id": "006a197d",
   "metadata": {},
   "outputs": [
    {
     "name": "stdout",
     "output_type": "stream",
     "text": [
      "Folder Name:C:\\Users\\HP\\Desktop\\media Subfoldefr name:DummyFolder DummyFolder1 Video Filenames:C0464.MP4Example.txtExample1.txtExample2.bakExample2.datExample2.dirHotel Mumbai 2018 720p BluRay DD5.1 x264-GL.mkvteri_neri_yaari_sabsde_pyaari.webaVTS_01_1.VOBVTS_01_2.VOBWedding Wishes.mp4\n",
      "Folder Name:C:\\Users\\HP\\Desktop\\media\\DummyFolder Subfoldefr name: Filenames:\n",
      "Folder Name:C:\\Users\\HP\\Desktop\\media\\DummyFolder1 Subfoldefr name:Dump Filenames:\n",
      "Folder Name:C:\\Users\\HP\\Desktop\\media\\DummyFolder1\\Dump Subfoldefr name:BadFolder Filenames:\n",
      "Folder Name:C:\\Users\\HP\\Desktop\\media\\DummyFolder1\\Dump\\BadFolder Subfoldefr name: Filenames:\n",
      "Folder Name:C:\\Users\\HP\\Desktop\\media\\Video Subfoldefr name: Filenames:Badrinath Ki Dulhania Full Movie.mp4Dear Comrade (2020) New Released Hindi Dubbed Full Movie - Vijay Devarakonda, Rashmika, Shruti.mp4Full Movie with English Subtitles - Rajkummar Rao, Shruti Haasan - Latest Cinema.mp4Inheritance.2020.720p.HDRip.800MB.x264-AAC-[123mkv.cool].mkvJersey (2019) New Released Hindi Dubbed Full Movie - Nani, Shraddha Srinath, Sathyaraj, Sanusha.mp4See.No.Evil.2006.DVDRip.x264.720p.AAC-[123mkv.cool].mkv\n"
     ]
    }
   ],
   "source": [
    "import os\n",
    "\n",
    "for foldername, subfolders, filenames in os.walk('C:\\\\Users\\\\HP\\\\Desktop\\\\media'):\n",
    "    print('Folder Name:'+ foldername+ ' Subfoldefr name:' + ' '.join(subfolders) + ' Filenames:' + ''.join(filenames) )\n",
    "    "
   ]
  },
  {
   "cell_type": "code",
   "execution_count": null,
   "id": "3fabc1ce",
   "metadata": {},
   "outputs": [],
   "source": []
  }
 ],
 "metadata": {
  "kernelspec": {
   "display_name": "Python 3",
   "language": "python",
   "name": "python3"
  },
  "language_info": {
   "codemirror_mode": {
    "name": "ipython",
    "version": 3
   },
   "file_extension": ".py",
   "mimetype": "text/x-python",
   "name": "python",
   "nbconvert_exporter": "python",
   "pygments_lexer": "ipython3",
   "version": "3.8.8"
  }
 },
 "nbformat": 4,
 "nbformat_minor": 5
}
