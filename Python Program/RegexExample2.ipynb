{
 "cells": [
  {
   "cell_type": "code",
   "execution_count": 7,
   "id": "a6f698f3",
   "metadata": {},
   "outputs": [
    {
     "name": "stdout",
     "output_type": "stream",
     "text": [
      "Batwoman\n",
      "Batwowowoman\n",
      "Batwowowoman\n"
     ]
    }
   ],
   "source": [
    "import re\n",
    "\n",
    "batmanRegex = re.compile(r'Bat(wo)?man')\n",
    "mo = batmanRegex.search('I am Batwoman')\n",
    "print(mo.group())\n",
    "\n",
    "batmanRegex = re.compile(r'Bat(wo)+man')\n",
    "mo = batmanRegex.search('I am Batwowowoman')\n",
    "print(mo.group())\n",
    "\n",
    "batmanRegex = re.compile(r'Bat(wo)*man')\n",
    "mo = batmanRegex.search('I am Batwowowoman')\n",
    "print(mo.group())"
   ]
  },
  {
   "cell_type": "code",
   "execution_count": 16,
   "id": "2312fd8b",
   "metadata": {},
   "outputs": [
    {
     "name": "stdout",
     "output_type": "stream",
     "text": [
      "Batwowowoman\n",
      "Batwowowowoman\n",
      "Batwowowowoman\n",
      "Batwowowowoman\n",
      "Batwowoman\n"
     ]
    }
   ],
   "source": [
    "import re\n",
    "\n",
    "batmanRegex = re.compile(r'Bat(wo){3}man')\n",
    "mo = batmanRegex.search('I am Batwowowoman')\n",
    "print(mo.group())\n",
    "\n",
    "batmanRegex = re.compile(r'Bat(wo){2,}man')\n",
    "mo = batmanRegex.search('I am Batwowowowoman')\n",
    "print(mo.group())\n",
    "\n",
    "batmanRegex = re.compile(r'Bat(wo){2,5}man')\n",
    "mo = batmanRegex.search('I am Batwowowowoman')\n",
    "print(mo.group())\n",
    "\n",
    "batmanRegex = re.compile(r'Bat(wo){,6}man')\n",
    "mo = batmanRegex.search('I am Batwowowowoman')\n",
    "print(mo.group())\n",
    "\n",
    "batmanRegex = re.compile(r'Bat(wo){2}man')\n",
    "mo = batmanRegex.search('I am Batwowoman')\n",
    "print(mo.group())\n",
    "\n"
   ]
  },
  {
   "cell_type": "code",
   "execution_count": 32,
   "id": "a92f45b1",
   "metadata": {},
   "outputs": [
    {
     "name": "stdout",
     "output_type": "stream",
     "text": [
      "('432', '543-432')\n",
      "['I', 'a', 'A', 'i', 'u', 'a', 'a', 'a']\n",
      "[' ', 'm', ' ', 's', 's', 'h', ' ', 'K', 'm', 'r', ' ', 'P', 'r', 'd', 'h', 'n']\n",
      "['1 piper', '2 soda', '3 wishkey']\n",
      "['er,', ' 2 ', 'da,', ' 3 ', 'ey ', 'df ', 'sd ']\n"
     ]
    }
   ],
   "source": [
    "import re\n",
    "\n",
    "mobileRegex = re.compile(r'(\\d\\d\\d)-(\\d\\d\\d-\\d\\d\\d)')\n",
    "mo = mobileRegex.findall('123-223-123, 432-543-432 , My phone number is 098-987-543')\n",
    "print(mo[1])\n",
    "\n",
    "alphRegex = re.compile(r'[aeiouAEIOU]')\n",
    "mo = alphRegex.findall('I am Asish Kumar Pradhan')\n",
    "print(mo)\n",
    "\n",
    "alphRegex = re.compile(r'[^aeiouAEIOU]')\n",
    "mo = alphRegex.findall('I am Asish Kumar Pradhan')\n",
    "print(mo)\n",
    "\n",
    "\n",
    "wordsRegex = re.compile(r'\\d\\s\\w+')\n",
    "mo = wordsRegex.findall('1 piper, 2 soda, 3 wishkey')\n",
    "print(mo)\n",
    "\n",
    "\n",
    "wordsRegex = re.compile(r'\\D\\S\\W')\n",
    "mo = wordsRegex.findall('1 piper, 2 soda, 3 wishkey dsdf sdfsd dd')\n",
    "print(mo)"
   ]
  },
  {
   "cell_type": "code",
   "execution_count": 44,
   "id": "d594869b",
   "metadata": {},
   "outputs": [
    {
     "name": "stdout",
     "output_type": "stream",
     "text": [
      "['asish']\n",
      "['123442run']\n",
      "[' at', 'cat']\n"
     ]
    }
   ],
   "source": [
    "import re\n",
    "\n",
    "wordRegex = re.compile(r'^\\w+$')\n",
    "mo  = wordRegex.findall('asish')\n",
    "print(mo)\n",
    "\n",
    "wordRegex = re.compile(r'^\\d\\w+$')\n",
    "mo  = wordRegex.findall('123442run')\n",
    "print(mo)\n",
    "\n",
    "wordRegex = re.compile(r'.at')\n",
    "mo  = wordRegex.findall('I am at the cat center')\n",
    "print(mo)\n"
   ]
  },
  {
   "cell_type": "code",
   "execution_count": 46,
   "id": "5db303a6",
   "metadata": {},
   "outputs": [
    {
     "name": "stdout",
     "output_type": "stream",
     "text": [
      "hackrererernk\n",
      "rer\n",
      "(4, 6)\n",
      "(6, 8)\n",
      "(8, 10)\n"
     ]
    },
    {
     "ename": "AttributeError",
     "evalue": "'NoneType' object has no attribute 'start'",
     "output_type": "error",
     "traceback": [
      "\u001b[1;31m---------------------------------------------------------------------------\u001b[0m",
      "\u001b[1;31mAttributeError\u001b[0m                            Traceback (most recent call last)",
      "\u001b[1;32m<ipython-input-46-6e6faacf9471>\u001b[0m in \u001b[0;36m<module>\u001b[1;34m\u001b[0m\n\u001b[0;32m      9\u001b[0m         \u001b[0mm\u001b[0m \u001b[1;33m=\u001b[0m \u001b[0mre\u001b[0m\u001b[1;33m.\u001b[0m\u001b[0msearch\u001b[0m\u001b[1;33m(\u001b[0m\u001b[0mk\u001b[0m\u001b[1;33m,\u001b[0m \u001b[0ms\u001b[0m\u001b[1;33m[\u001b[0m\u001b[0mindex\u001b[0m\u001b[1;33m:\u001b[0m\u001b[1;33m]\u001b[0m\u001b[1;33m)\u001b[0m \u001b[1;31m#begins search with new index\u001b[0m\u001b[1;33m\u001b[0m\u001b[1;33m\u001b[0m\u001b[0m\n\u001b[0;32m     10\u001b[0m \u001b[1;33m\u001b[0m\u001b[0m\n\u001b[1;32m---> 11\u001b[1;33m         \u001b[0mprint\u001b[0m\u001b[1;33m(\u001b[0m\u001b[1;34m\"({0}, {1})\"\u001b[0m\u001b[1;33m.\u001b[0m\u001b[0mformat\u001b[0m\u001b[1;33m(\u001b[0m\u001b[0mindex\u001b[0m\u001b[1;33m+\u001b[0m\u001b[0mm\u001b[0m\u001b[1;33m.\u001b[0m\u001b[0mstart\u001b[0m\u001b[1;33m(\u001b[0m\u001b[1;33m)\u001b[0m\u001b[1;33m,\u001b[0m \u001b[0mindex\u001b[0m\u001b[1;33m+\u001b[0m\u001b[0mm\u001b[0m\u001b[1;33m.\u001b[0m\u001b[0mend\u001b[0m\u001b[1;33m(\u001b[0m\u001b[1;33m)\u001b[0m\u001b[1;33m-\u001b[0m\u001b[1;36m1\u001b[0m\u001b[1;33m)\u001b[0m\u001b[1;33m)\u001b[0m\u001b[1;33m\u001b[0m\u001b[1;33m\u001b[0m\u001b[0m\n\u001b[0m\u001b[0;32m     12\u001b[0m \u001b[1;33m\u001b[0m\u001b[0m\n\u001b[0;32m     13\u001b[0m         \u001b[0mindex\u001b[0m \u001b[1;33m+=\u001b[0m \u001b[0mm\u001b[0m\u001b[1;33m.\u001b[0m\u001b[0mstart\u001b[0m\u001b[1;33m(\u001b[0m\u001b[1;33m)\u001b[0m \u001b[1;33m+\u001b[0m \u001b[1;36m1\u001b[0m \u001b[1;31m#assign new index by +1\u001b[0m\u001b[1;33m\u001b[0m\u001b[1;33m\u001b[0m\u001b[0m\n",
      "\u001b[1;31mAttributeError\u001b[0m: 'NoneType' object has no attribute 'start'"
     ]
    }
   ],
   "source": [
    "import re\n",
    "\n",
    "s = input()\n",
    "k = input()\n",
    "index = 0\n",
    "\n",
    "if re.search(k, s):\n",
    "    while index+len(k) < len(s):\n",
    "        m = re.search(k, s[index:]) #begins search with new index\n",
    "        \n",
    "        print(\"({0}, {1})\".format(index+m.start(), index+m.end()-1)) \n",
    "        \n",
    "        index += m.start() + 1 #assign new index by +1 \n",
    "else:\n",
    "    print((-1, -1))\n",
    "    \n",
    "    "
   ]
  },
  {
   "cell_type": "code",
   "execution_count": null,
   "id": "ae3cc784",
   "metadata": {},
   "outputs": [],
   "source": []
  },
  {
   "cell_type": "code",
   "execution_count": null,
   "id": "ffc27cde",
   "metadata": {},
   "outputs": [],
   "source": []
  }
 ],
 "metadata": {
  "kernelspec": {
   "display_name": "Python 3",
   "language": "python",
   "name": "python3"
  },
  "language_info": {
   "codemirror_mode": {
    "name": "ipython",
    "version": 3
   },
   "file_extension": ".py",
   "mimetype": "text/x-python",
   "name": "python",
   "nbconvert_exporter": "python",
   "pygments_lexer": "ipython3",
   "version": "3.8.8"
  }
 },
 "nbformat": 4,
 "nbformat_minor": 5
}
