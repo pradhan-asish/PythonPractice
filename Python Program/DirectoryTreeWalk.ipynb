{
 "cells": [
  {
   "cell_type": "code",
   "execution_count": 8,
   "id": "5d73b588",
   "metadata": {},
   "outputs": [
    {
     "name": "stdout",
     "output_type": "stream",
     "text": [
      "Folder Name:C:\\Users\\HP\\Desktop\\media\n",
      "\n",
      " Subfolder name:DummyFolder DummyFolder1 Video\n",
      "\n",
      " Filenames:C0464.MP4Example.txtExample1.txtExample2.bakExample2.datExample2.dirHotel Mumbai 2018 720p BluRay DD5.1 x264-GL.mkvteri_neri_yaari_sabsde_pyaari.webaVTS_01_1.VOBVTS_01_2.VOBWedding Wishes.mp4\n",
      "Folder Name:C:\\Users\\HP\\Desktop\\media\\DummyFolder\n",
      "\n",
      " Subfolder name:\n",
      "\n",
      " Filenames:\n",
      "Folder Name:C:\\Users\\HP\\Desktop\\media\\DummyFolder1\n",
      "\n",
      " Subfolder name:Dump\n",
      "\n",
      " Filenames:\n",
      "Folder Name:C:\\Users\\HP\\Desktop\\media\\DummyFolder1\\Dump\n",
      "\n",
      " Subfolder name:BadFolder\n",
      "\n",
      " Filenames:\n",
      "Folder Name:C:\\Users\\HP\\Desktop\\media\\DummyFolder1\\Dump\\BadFolder\n",
      "\n",
      " Subfolder name:\n",
      "\n",
      " Filenames:\n",
      "Folder Name:C:\\Users\\HP\\Desktop\\media\\Video\n",
      "\n",
      " Subfolder name:\n",
      "\n",
      " Filenames:Badrinath Ki Dulhania Full Movie.mp4Dear Comrade (2020) New Released Hindi Dubbed Full Movie - Vijay Devarakonda, Rashmika, Shruti.mp4Full Movie with English Subtitles - Rajkummar Rao, Shruti Haasan - Latest Cinema.mp4Inheritance.2020.720p.HDRip.800MB.x264-AAC-[123mkv.cool].mkvJersey (2019) New Released Hindi Dubbed Full Movie - Nani, Shraddha Srinath, Sathyaraj, Sanusha.mp4See.No.Evil.2006.DVDRip.x264.720p.AAC-[123mkv.cool].mkv\n"
     ]
    }
   ],
   "source": [
    "import os\n",
    "\n",
    "for foldername, subfolders, filenames in os.walk('C:\\\\Users\\\\HP\\\\Desktop\\\\media'):\n",
    "    print('Folder Name:'+ foldername+ '\\n\\n Subfolder name:' + ' '.join(subfolders) +  '\\n\\n Filenames:' + ''.join(filenames) )\n",
    "    "
   ]
  },
  {
   "cell_type": "code",
   "execution_count": 5,
   "id": "6d838384",
   "metadata": {},
   "outputs": [
    {
     "name": "stdout",
     "output_type": "stream",
     "text": [
      "DummyFolder\n",
      "DummyFolder1\n",
      "Video\n",
      "Dump\n",
      "BadFolder\n"
     ]
    }
   ],
   "source": [
    "import os\n",
    "\n",
    "for foldername, subfolders, filenames in os.walk('C:\\\\Users\\\\HP\\\\Desktop\\\\media'):\n",
    "    for subfolder in subfolders:\n",
    "        print(subfolder)\n",
    "        \n",
    "    \n",
    "    "
   ]
  },
  {
   "cell_type": "code",
   "execution_count": null,
   "id": "a3e25e4a",
   "metadata": {},
   "outputs": [],
   "source": []
  }
 ],
 "metadata": {
  "kernelspec": {
   "display_name": "Python 3",
   "language": "python",
   "name": "python3"
  },
  "language_info": {
   "codemirror_mode": {
    "name": "ipython",
    "version": 3
   },
   "file_extension": ".py",
   "mimetype": "text/x-python",
   "name": "python",
   "nbconvert_exporter": "python",
   "pygments_lexer": "ipython3",
   "version": "3.8.8"
  }
 },
 "nbformat": 4,
 "nbformat_minor": 5
}
