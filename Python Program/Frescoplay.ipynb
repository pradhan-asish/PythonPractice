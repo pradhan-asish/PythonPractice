{
 "cells": [
  {
   "cell_type": "code",
   "execution_count": 3,
   "id": "3a5b38d8",
   "metadata": {},
   "outputs": [
    {
     "name": "stdout",
     "output_type": "stream",
     "text": [
      "0\n"
     ]
    }
   ],
   "source": [
    "z = [2,4,5,12]\n",
    "i = 2\n",
    "for l in z:\n",
    "    if l == i :\n",
    "        print(0)\n",
    "        break\n",
    "    else:\n",
    "        print(1)"
   ]
  },
  {
   "cell_type": "code",
   "execution_count": 10,
   "id": "fa5f3010",
   "metadata": {},
   "outputs": [
    {
     "name": "stdout",
     "output_type": "stream",
     "text": [
      "[1, 3, 5, 7, 9]\n"
     ]
    }
   ],
   "source": [
    "ar = []\n",
    "for i in range(1,9+1):\n",
    "    if i % 2 != 0:\n",
    "        ar.append(i)\n",
    "print(ar)"
   ]
  },
  {
   "cell_type": "code",
   "execution_count": 18,
   "id": "872d8632",
   "metadata": {},
   "outputs": [
    {
     "ename": "SyntaxError",
     "evalue": "invalid syntax (<ipython-input-18-86689c2450a5>, line 1)",
     "output_type": "error",
     "traceback": [
      "\u001b[1;36m  File \u001b[1;32m\"<ipython-input-18-86689c2450a5>\"\u001b[1;36m, line \u001b[1;32m1\u001b[0m\n\u001b[1;33m    def reverse(input()):\u001b[0m\n\u001b[1;37m                     ^\u001b[0m\n\u001b[1;31mSyntaxError\u001b[0m\u001b[1;31m:\u001b[0m invalid syntax\n"
     ]
    }
   ],
   "source": [
    "def reverse(input()):\n",
    "    ar1 =[]\n",
    "    ar2= []\n",
    "    multiply = 0\n",
    "    for i in range(1,n+1):\n",
    "        ar1.append(i)\n",
    "    for i in range(n):\n",
    "        ar2.append(ar1[n-i-1])   \n",
    "        \n",
    "    for j in range (n):\n",
    "        multiply = multiply + ar1[j] * ar2 [j]\n",
    "    print(ar1)\n",
    "    print(ar2)\n",
    "    print(multiply)\n",
    "reverse(5)\n",
    "reverse(8)"
   ]
  },
  {
   "cell_type": "code",
   "execution_count": 22,
   "id": "f60a2e51",
   "metadata": {},
   "outputs": [
    {
     "name": "stdout",
     "output_type": "stream",
     "text": [
      "[1, 2, 3, 4, 5]\n",
      "[5, 4, 3, 2, 1]\n",
      "35\n",
      "[1, 2, 3, 4, 5, 6, 7, 8]\n",
      "[8, 7, 6, 5, 4, 3, 2, 1]\n",
      "120\n"
     ]
    }
   ],
   "source": [
    "def reverse(n):\n",
    "    ar1 =[]\n",
    "    ar2= []\n",
    "    multiply = 0\n",
    "    for i in range(1,n+1):\n",
    "        ar1.append(i)\n",
    "    for i in range(n):\n",
    "        ar2.append(ar1[n-i-1])   \n",
    "        multiply = multiply + ar1[i] * ar1[n-i-1]\n",
    "    print(ar1)\n",
    "    print(ar2)\n",
    "    print(multiply)\n",
    "reverse(5)\n",
    "reverse(8)"
   ]
  },
  {
   "cell_type": "code",
   "execution_count": null,
   "id": "2d443dd1",
   "metadata": {},
   "outputs": [],
   "source": []
  }
 ],
 "metadata": {
  "kernelspec": {
   "display_name": "Python 3",
   "language": "python",
   "name": "python3"
  },
  "language_info": {
   "codemirror_mode": {
    "name": "ipython",
    "version": 3
   },
   "file_extension": ".py",
   "mimetype": "text/x-python",
   "name": "python",
   "nbconvert_exporter": "python",
   "pygments_lexer": "ipython3",
   "version": "3.8.8"
  }
 },
 "nbformat": 4,
 "nbformat_minor": 5
}
