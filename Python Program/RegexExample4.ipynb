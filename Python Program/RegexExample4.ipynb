{
 "cells": [
  {
   "cell_type": "code",
   "execution_count": 2,
   "id": "0fc2297d",
   "metadata": {},
   "outputs": [
    {
     "name": "stdout",
     "output_type": "stream",
     "text": [
      "['Asish Kumar']\n",
      "My name is Asish Pradhan\n"
     ]
    }
   ],
   "source": [
    "import re\n",
    "wordRegex = re.compile(r'Asish \\w+')\n",
    "string = 'My name is Asish Kumar Pradhan'\n",
    "group =  wordRegex.findall(string)\n",
    "print(group)\n",
    "print(wordRegex.sub('Asish',string)) ##substitute string with another string\n"
   ]
  },
  {
   "cell_type": "code",
   "execution_count": 9,
   "id": "56a07a38",
   "metadata": {},
   "outputs": [
    {
     "name": "stdout",
     "output_type": "stream",
     "text": [
      "['K']\n",
      "My name is Asish K**** Pradhan\n"
     ]
    }
   ],
   "source": [
    "import re\n",
    "wordRegex = re.compile(r'Asish (\\w)\\w*')\n",
    "string = 'My name is Asish Kumar Pradhan'\n",
    "group =  wordRegex.findall(string)\n",
    "print(group)\n",
    "print(wordRegex.sub(r'Asish \\1****',string)) ##substitute string with another string \n"
   ]
  },
  {
   "cell_type": "code",
   "execution_count": null,
   "id": "18feba65",
   "metadata": {},
   "outputs": [],
   "source": []
  }
 ],
 "metadata": {
  "kernelspec": {
   "display_name": "Python 3",
   "language": "python",
   "name": "python3"
  },
  "language_info": {
   "codemirror_mode": {
    "name": "ipython",
    "version": 3
   },
   "file_extension": ".py",
   "mimetype": "text/x-python",
   "name": "python",
   "nbconvert_exporter": "python",
   "pygments_lexer": "ipython3",
   "version": "3.8.8"
  }
 },
 "nbformat": 4,
 "nbformat_minor": 5
}
