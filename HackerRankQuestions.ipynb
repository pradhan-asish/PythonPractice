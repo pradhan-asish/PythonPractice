{
 "cells": [
  {
   "cell_type": "code",
   "execution_count": 4,
   "id": "1f02964f",
   "metadata": {},
   "outputs": [
    {
     "name": "stdout",
     "output_type": "stream",
     "text": [
      "3\n",
      "2\n"
     ]
    }
   ],
   "source": [
    "a = [3,2,1,3]\n",
    "\n",
    "k = max(a)\n",
    "print(k)\n",
    "l = 0\n",
    "for i in range(len(a)):\n",
    "    if a[i] == k: \n",
    "       l += 1 \n",
    "print(l)"
   ]
  },
  {
   "cell_type": "code",
   "execution_count": 14,
   "id": "9d501b40",
   "metadata": {},
   "outputs": [
    {
     "name": "stdout",
     "output_type": "stream",
     "text": [
      "23:08:37\n"
     ]
    }
   ],
   "source": [
    "import datetime\n",
    "d = datetime.datetime.now()\n",
    "print (d.strftime(\"%H:%M:%S\"))\n",
    "\n"
   ]
  },
  {
   "cell_type": "code",
   "execution_count": null,
   "id": "b53c0d66",
   "metadata": {},
   "outputs": [],
   "source": [
    "## use of any and all function\n",
    "N,n = int(input()),input().split()\n",
    "print (all([int(i)>0 for i in n]) and any([j == j[::-1] for j in n]))"
   ]
  },
  {
   "cell_type": "code",
   "execution_count": 3,
   "id": "060d2a08",
   "metadata": {},
   "outputs": [
    {
     "ename": "SyntaxError",
     "evalue": "invalid syntax (<ipython-input-3-b6c4a3c2c4b5>, line 5)",
     "output_type": "error",
     "traceback": [
      "\u001b[1;36m  File \u001b[1;32m\"<ipython-input-3-b6c4a3c2c4b5>\"\u001b[1;36m, line \u001b[1;32m5\u001b[0m\n\u001b[1;33m    vector<int> gradingStudents(vector<int> grades) {\u001b[0m\n\u001b[1;37m                                                    ^\u001b[0m\n\u001b[1;31mSyntaxError\u001b[0m\u001b[1;31m:\u001b[0m invalid syntax\n"
     ]
    }
   ],
   "source": [
    "##Getting rank of students\n",
    "\n",
    "\n",
    "\n",
    "vector<int> gradingStudents(vector<int> grades) {\n",
    "\n",
    "}\n",
    "\n",
    "int main()\n",
    "{\n",
    "    ofstream fout(getenv(\"OUTPUT_PATH\"));\n",
    "\n",
    "    string grades_count_temp;\n",
    "    getline(cin, grades_count_temp);\n",
    "\n",
    "    int grades_count = stoi(ltrim(rtrim(grades_count_temp)));\n",
    "\n",
    "    vector<int> grades(grades_count);\n",
    "\n",
    "    for (int i = 0; i < grades_count; i++) {\n",
    "        string grades_item_temp;\n",
    "        getline(cin, grades_item_temp);\n",
    "\n",
    "        int grades_item = stoi(ltrim(rtrim(grades_item_temp)));\n",
    "\n",
    "        grades[i] = grades_item;\n",
    "    }\n",
    "\n",
    "    vector<int> result = gradingStudents(grades);\n",
    "\n",
    "    for (size_t i = 0; i < result.size(); i++) {\n",
    "        fout << result[i];\n",
    "\n",
    "        if (i != result.size() - 1) {\n",
    "            fout << \"\\n\";\n",
    "        }\n",
    "    }\n",
    "\n",
    "    fout << \"\\n\";\n",
    "\n",
    "    fout.close();\n",
    "\n",
    "    return 0;\n",
    "}\n",
    "\n",
    "string ltrim(const string &str) {\n",
    "    string s(str);\n",
    "\n",
    "    s.erase(\n",
    "        s.begin(),\n",
    "        find_if(s.begin(), s.end(), not1(ptr_fun<int, int>(isspace)))\n",
    "    );\n",
    "\n",
    "    return s;\n",
    "}\n",
    "\n",
    "string rtrim(const string &str) {\n",
    "    string s(str);\n",
    "\n",
    "    s.erase(\n",
    "        find_if(s.rbegin(), s.rend(), not1(ptr_fun<int, int>(isspace))).base(),\n",
    "        s.end()\n",
    "    );\n",
    "\n",
    "    return s;\n",
    "}\n"
   ]
  },
  {
   "cell_type": "code",
   "execution_count": null,
   "id": "c373d06f",
   "metadata": {},
   "outputs": [],
   "source": []
  }
 ],
 "metadata": {
  "kernelspec": {
   "display_name": "Python 3",
   "language": "python",
   "name": "python3"
  },
  "language_info": {
   "codemirror_mode": {
    "name": "ipython",
    "version": 3
   },
   "file_extension": ".py",
   "mimetype": "text/x-python",
   "name": "python",
   "nbconvert_exporter": "python",
   "pygments_lexer": "ipython3",
   "version": "3.8.8"
  }
 },
 "nbformat": 4,
 "nbformat_minor": 5
}
