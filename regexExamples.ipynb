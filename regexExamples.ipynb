{
 "cells": [
  {
   "cell_type": "code",
   "execution_count": 2,
   "id": "e77ab5dc",
   "metadata": {},
   "outputs": [
    {
     "name": "stdout",
     "output_type": "stream",
     "text": [
      "7008530648\n"
     ]
    }
   ],
   "source": [
    "import re\n",
    "message = 'I am Asish Kumar Pradhan. My phone num is 7008530648.'\n",
    "phoneregex = re.compile(r'\\d\\d\\d\\d\\d\\d\\d\\d\\d\\d')\n",
    "mo = phoneregex.search(message)\n",
    "print(mo.group())"
   ]
  },
  {
   "cell_type": "code",
   "execution_count": 14,
   "id": "e7d61bae",
   "metadata": {},
   "outputs": [
    {
     "name": "stdout",
     "output_type": "stream",
     "text": [
      "01-7008530648\n",
      "01\n",
      "7008530648\n",
      "[('01', '7008530648'), ('91', '9178810167')]\n"
     ]
    }
   ],
   "source": [
    "import re\n",
    "message = 'I am Asish Kumar Pradhan. My phone num is 01-7008530648.My best number is 91-9178810167.'\n",
    "phoneregex = re.compile(r'(\\d\\d)-(\\d\\d\\d\\d\\d\\d\\d\\d\\d\\d)')\n",
    "mo = phoneregex.search(message)\n",
    "print(mo.group(0))\n",
    "print(mo.group(1))\n",
    "print(mo.group(2))\n",
    "print(phoneregex.findall(message))"
   ]
  },
  {
   "cell_type": "code",
   "execution_count": null,
   "id": "77af84e8",
   "metadata": {},
   "outputs": [],
   "source": []
  },
  {
   "cell_type": "code",
   "execution_count": null,
   "id": "984e1ad7",
   "metadata": {},
   "outputs": [],
   "source": []
  }
 ],
 "metadata": {
  "_draft": {
   "nbviewer_url": "https://gist.github.com/e0759b4aff5ec6d1484a62b757cd4847"
  },
  "gist": {
   "data": {
    "description": "Desktop/GitHub/Python/PythonPractice/RegexExample.ipynb",
    "public": true
   },
   "id": "e0759b4aff5ec6d1484a62b757cd4847"
  },
  "kernelspec": {
   "display_name": "Python 3",
   "language": "python",
   "name": "python3"
  },
  "language_info": {
   "codemirror_mode": {
    "name": "ipython",
    "version": 3
   },
   "file_extension": ".py",
   "mimetype": "text/x-python",
   "name": "python",
   "nbconvert_exporter": "python",
   "pygments_lexer": "ipython3",
   "version": "3.8.8"
  }
 },
 "nbformat": 4,
 "nbformat_minor": 5
}
