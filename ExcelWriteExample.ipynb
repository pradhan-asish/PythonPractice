{
 "cells": [
  {
   "cell_type": "code",
   "execution_count": 6,
   "id": "a65603e0",
   "metadata": {},
   "outputs": [
    {
     "name": "stdout",
     "output_type": "stream",
     "text": [
      "<openpyxl.workbook.workbook.Workbook object at 0x00000207798A5700>\n",
      "['Sheet']\n",
      "None\n",
      "Asish\n",
      "Kumar\n",
      "Pradhan\n",
      "Deepak\n"
     ]
    }
   ],
   "source": [
    "import openpyxl,os\n",
    "wb = openpyxl.Workbook()\n",
    "print(wb)\n",
    "print(wb.sheetnames)\n",
    "sheet1 = wb['Sheet']\n",
    "print(sheet1['A1'].value)\n",
    "\n",
    "sheet1['A1'].value = 'Asish'\n",
    "sheet1['A2'].value = 'Kumar'\n",
    "sheet1['A3'].value = 'Pradhan'\n",
    "sheet1['A4'].value = 'Deepak'\n",
    "sheet1['A5'].value = 'Deepak'\n",
    "sheet1['A6'].value = 'Samnata'\n",
    "\n",
    "wb.save('Example2.xlsx')\n",
    "\n",
    "wb1 = openpyxl.load_workbook('Example1.xlsx')\n",
    "sheet1 = wb['Sheet']\n",
    "\n",
    "for i in range(1,5):\n",
    "    print(sheet1.cell(row = i , column = 1).value)\n",
    "\n"
   ]
  },
  {
   "cell_type": "code",
   "execution_count": null,
   "id": "00ad0afc",
   "metadata": {},
   "outputs": [],
   "source": []
  }
 ],
 "metadata": {
  "kernelspec": {
   "display_name": "Python 3",
   "language": "python",
   "name": "python3"
  },
  "language_info": {
   "codemirror_mode": {
    "name": "ipython",
    "version": 3
   },
   "file_extension": ".py",
   "mimetype": "text/x-python",
   "name": "python",
   "nbconvert_exporter": "python",
   "pygments_lexer": "ipython3",
   "version": "3.8.8"
  }
 },
 "nbformat": 4,
 "nbformat_minor": 5
}
