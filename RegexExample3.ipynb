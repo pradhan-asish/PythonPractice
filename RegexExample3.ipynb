{
 "cells": [
  {
   "cell_type": "code",
   "execution_count": 5,
   "id": "003bf4bd",
   "metadata": {},
   "outputs": [
    {
     "name": "stdout",
     "output_type": "stream",
     "text": [
      "1234\n"
     ]
    }
   ],
   "source": [
    "import re\n",
    "\n",
    "dotRegex  = re.compile(r'^\\d+$')\n",
    "word = dotRegex.search('1234')\n",
    "print(word.group())\n",
    "\n"
   ]
  },
  {
   "cell_type": "code",
   "execution_count": 15,
   "id": "26c098c6",
   "metadata": {},
   "outputs": [
    {
     "name": "stdout",
     "output_type": "stream",
     "text": [
      "11\n",
      "[(' Asish', ' Pradhan')]\n"
     ]
    }
   ],
   "source": [
    "import re\n",
    "string1 = 'First Name : Asish Last Name : Pradhan'\n",
    "print(string1.find(':'))\n",
    "wordregex = re.compile(r'First Name :(.*) Last Name :(.*)')\n",
    "words = wordregex.findall(string1)\n",
    "print(words)\n"
   ]
  },
  {
   "cell_type": "code",
   "execution_count": 21,
   "id": "029c2ebd",
   "metadata": {},
   "outputs": [
    {
     "name": "stdout",
     "output_type": "stream",
     "text": [
      "I am Asish Pradhan.\n",
      "I live in Bhubaneswar.\n",
      "I work in Cap.\n",
      "['I am Asish Pradhan.', '', 'I live in Bhubaneswar.', '', 'I work in Cap.', '']\n",
      "['I am Asish Pradhan.\\nI live in Bhubaneswar.\\nI work in Cap.', '']\n"
     ]
    }
   ],
   "source": [
    "import re\n",
    "string1 = 'I am Asish Pradhan.\\nI live in Bhubaneswar.\\nI work in Cap.'\n",
    "print(string1)\n",
    "wordregex = re.compile(r'.*')\n",
    "sentences = wordregex.findall(string1)\n",
    "print(sentences)\n",
    "\n",
    "wordregex = re.compile(r'.*', re.DOTALL)\n",
    "sentences = wordregex.findall(string1)\n",
    "print(sentences)"
   ]
  },
  {
   "cell_type": "code",
   "execution_count": 26,
   "id": "21aaca5f",
   "metadata": {},
   "outputs": [
    {
     "name": "stdout",
     "output_type": "stream",
     "text": [
      "I am Asish Pradhan.I live in Bhubaneswar. I work in Cap.\n",
      "['a', 'i', 'a', 'a', 'i', 'e', 'i', 'u', 'a', 'e', 'a', 'o', 'i', 'a']\n",
      "['I', 'a', 'A', 'i', 'a', 'a', 'I', 'i', 'e', 'i', 'u', 'a', 'e', 'a', 'I', 'o', 'i', 'a']\n"
     ]
    }
   ],
   "source": [
    "import re\n",
    "string1 = 'I am Asish Pradhan.I live in Bhubaneswar. I work in Cap.'\n",
    "print(string1)\n",
    "##CCase sensitive\n",
    "wordregex = re.compile(r'[aeiou]')\n",
    "sentences = wordregex.findall(string1)\n",
    "print(sentences)\n",
    "##Case Insensitive\n",
    "wordregex = re.compile(r'[aeiou]', re.I)\n",
    "sentences = wordregex.findall(string1)\n",
    "print(sentences)"
   ]
  },
  {
   "cell_type": "code",
   "execution_count": null,
   "id": "a16ad02e",
   "metadata": {},
   "outputs": [],
   "source": []
  }
 ],
 "metadata": {
  "kernelspec": {
   "display_name": "Python 3",
   "language": "python",
   "name": "python3"
  },
  "language_info": {
   "codemirror_mode": {
    "name": "ipython",
    "version": 3
   },
   "file_extension": ".py",
   "mimetype": "text/x-python",
   "name": "python",
   "nbconvert_exporter": "python",
   "pygments_lexer": "ipython3",
   "version": "3.8.8"
  }
 },
 "nbformat": 4,
 "nbformat_minor": 5
}
