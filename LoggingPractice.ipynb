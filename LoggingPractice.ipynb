{
 "cells": [
  {
   "cell_type": "code",
   "execution_count": 22,
   "id": "982da3f8",
   "metadata": {},
   "outputs": [
    {
     "name": "stderr",
     "output_type": "stream",
     "text": [
      "2021-07-14 23:06:29,914 - ERROR - The number given: 1\n",
      "2021-07-14 23:06:29,917 - ERROR - The number given: 2\n",
      "2021-07-14 23:06:29,921 - ERROR - The number given: 3\n",
      "2021-07-14 23:06:29,923 - ERROR - The number given: 4\n",
      "2021-07-14 23:06:29,926 - ERROR - The number given: 5\n",
      "2021-07-14 23:06:29,929 - CRITICAL - 120\n"
     ]
    },
    {
     "name": "stdout",
     "output_type": "stream",
     "text": [
      "Factorial of the number:120\n"
     ]
    }
   ],
   "source": [
    "import logging\n",
    "\n",
    "## Logging method\n",
    "\n",
    "logging.basicConfig(level=logging.info, format = '%(asctime)s - %(levelname)s - %(message)s')\n",
    "\n",
    "##Logging attributes : 'DEBUG' , 'INFO' , 'WARNING' , 'ERROR' , 'CRITICAL'\n",
    "\n",
    "logging.disable(logging.WARNING) ## Disable aal the logging statments below the priority level of WARNING\n",
    "\n",
    "def factorial(n):\n",
    "    logging.info('The input number is:'+str(n))\n",
    "    fact = 1 ;\n",
    "    for i in range(1,n+1):\n",
    "        logging.error('The number given: '+str(i))\n",
    "        fact = fact * i\n",
    "    logging.warning('The factorial of number is:'+str(n))    \n",
    "    print('Factorial of the number:'+ str(fact))\n",
    "    return fact\n",
    "\n",
    "logging.critical(factorial(5))\n",
    "    \n",
    "\n"
   ]
  },
  {
   "cell_type": "code",
   "execution_count": null,
   "id": "b8ff19ff",
   "metadata": {},
   "outputs": [],
   "source": []
  },
  {
   "cell_type": "code",
   "execution_count": null,
   "id": "c5fc283e",
   "metadata": {},
   "outputs": [],
   "source": []
  }
 ],
 "metadata": {
  "kernelspec": {
   "display_name": "Python 3",
   "language": "python",
   "name": "python3"
  },
  "language_info": {
   "codemirror_mode": {
    "name": "ipython",
    "version": 3
   },
   "file_extension": ".py",
   "mimetype": "text/x-python",
   "name": "python",
   "nbconvert_exporter": "python",
   "pygments_lexer": "ipython3",
   "version": "3.8.8"
  }
 },
 "nbformat": 4,
 "nbformat_minor": 5
}
