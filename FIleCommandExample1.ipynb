{
 "cells": [
  {
   "cell_type": "code",
   "execution_count": 16,
   "id": "02cb0d6b",
   "metadata": {},
   "outputs": [
    {
     "name": "stdout",
     "output_type": "stream",
     "text": [
      "False\n",
      "True\n",
      "True\n",
      "False\n",
      "True\n",
      "False\n"
     ]
    },
    {
     "ename": "FileNotFoundError",
     "evalue": "[Errno 2] No such file or directory: 'C:\\\\Users\\\\HP\\\\Desktop\\\\media\\\\DummyFolder1\\\\Dump\\\\BadFolder\\\\Example1.txt'",
     "output_type": "error",
     "traceback": [
      "\u001b[1;31m---------------------------------------------------------------------------\u001b[0m",
      "\u001b[1;31mFileNotFoundError\u001b[0m                         Traceback (most recent call last)",
      "\u001b[1;32m<ipython-input-16-490b5366ef2f>\u001b[0m in \u001b[0;36m<module>\u001b[1;34m\u001b[0m\n\u001b[0;32m     35\u001b[0m \u001b[1;33m\u001b[0m\u001b[0m\n\u001b[0;32m     36\u001b[0m \u001b[1;32mif\u001b[0m \u001b[1;32mnot\u001b[0m \u001b[0mos\u001b[0m\u001b[1;33m.\u001b[0m\u001b[0mpath\u001b[0m\u001b[1;33m.\u001b[0m\u001b[0mexists\u001b[0m\u001b[1;33m(\u001b[0m\u001b[0ml_dummy_dir1\u001b[0m\u001b[1;33m+\u001b[0m\u001b[1;34m'\\\\Example1.txt'\u001b[0m\u001b[1;33m)\u001b[0m \u001b[1;33m:\u001b[0m\u001b[1;33m\u001b[0m\u001b[1;33m\u001b[0m\u001b[0m\n\u001b[1;32m---> 37\u001b[1;33m     \u001b[0mcreatefile\u001b[0m\u001b[1;33m(\u001b[0m\u001b[0ml_dummy_dir1\u001b[0m\u001b[1;33m+\u001b[0m\u001b[1;34m'\\\\Example1.txt'\u001b[0m\u001b[1;33m)\u001b[0m\u001b[1;33m\u001b[0m\u001b[1;33m\u001b[0m\u001b[0m\n\u001b[0m\u001b[0;32m     38\u001b[0m \u001b[0msend2trash\u001b[0m\u001b[1;33m.\u001b[0m\u001b[0msend2trash\u001b[0m\u001b[1;33m(\u001b[0m\u001b[0ml_dummy_dir1\u001b[0m\u001b[1;33m+\u001b[0m\u001b[1;34m'\\\\Example1.txt'\u001b[0m\u001b[1;33m)\u001b[0m\u001b[1;33m\u001b[0m\u001b[1;33m\u001b[0m\u001b[0m\n\u001b[0;32m     39\u001b[0m \u001b[0mprint\u001b[0m\u001b[1;33m(\u001b[0m\u001b[0mos\u001b[0m\u001b[1;33m.\u001b[0m\u001b[0mpath\u001b[0m\u001b[1;33m.\u001b[0m\u001b[0mexists\u001b[0m\u001b[1;33m(\u001b[0m\u001b[0ml_dummy_dir1\u001b[0m\u001b[1;33m+\u001b[0m\u001b[1;34m'\\\\Example1.txt'\u001b[0m\u001b[1;33m)\u001b[0m\u001b[1;33m)\u001b[0m\u001b[1;33m\u001b[0m\u001b[1;33m\u001b[0m\u001b[0m\n",
      "\u001b[1;32m<ipython-input-16-490b5366ef2f>\u001b[0m in \u001b[0;36mcreatefile\u001b[1;34m(fileName)\u001b[0m\n\u001b[0;32m      3\u001b[0m \u001b[1;31m## function to create file\u001b[0m\u001b[1;33m\u001b[0m\u001b[1;33m\u001b[0m\u001b[1;33m\u001b[0m\u001b[0m\n\u001b[0;32m      4\u001b[0m \u001b[1;32mdef\u001b[0m \u001b[0mcreatefile\u001b[0m\u001b[1;33m(\u001b[0m\u001b[0mfileName\u001b[0m\u001b[1;33m)\u001b[0m\u001b[1;33m:\u001b[0m\u001b[1;33m\u001b[0m\u001b[1;33m\u001b[0m\u001b[0m\n\u001b[1;32m----> 5\u001b[1;33m     \u001b[0mfile\u001b[0m \u001b[1;33m=\u001b[0m \u001b[0mopen\u001b[0m\u001b[1;33m(\u001b[0m\u001b[0mfileName\u001b[0m\u001b[1;33m,\u001b[0m\u001b[1;34m'a'\u001b[0m\u001b[1;33m)\u001b[0m \u001b[1;31m## to create file or append or write something in the file\u001b[0m\u001b[1;33m\u001b[0m\u001b[1;33m\u001b[0m\u001b[0m\n\u001b[0m\u001b[0;32m      6\u001b[0m     \u001b[0mtext\u001b[0m \u001b[1;33m=\u001b[0m \u001b[1;34m'I am Asish Kumar.\\n I like to do coding.\\n I like to do '\u001b[0m\u001b[1;33m\u001b[0m\u001b[1;33m\u001b[0m\u001b[0m\n\u001b[0;32m      7\u001b[0m     \u001b[0mfile\u001b[0m\u001b[1;33m.\u001b[0m\u001b[0mwrite\u001b[0m\u001b[1;33m(\u001b[0m\u001b[0mtext\u001b[0m\u001b[1;33m)\u001b[0m\u001b[1;33m\u001b[0m\u001b[1;33m\u001b[0m\u001b[0m\n",
      "\u001b[1;31mFileNotFoundError\u001b[0m: [Errno 2] No such file or directory: 'C:\\\\Users\\\\HP\\\\Desktop\\\\media\\\\DummyFolder1\\\\Dump\\\\BadFolder\\\\Example1.txt'"
     ]
    }
   ],
   "source": [
    "import os, shutil,send2trash\n",
    "\n",
    "## function to create file\n",
    "def createfile(fileName):\n",
    "    file = open(fileName,'a') ## to create file or append or write something in the file\n",
    "    text = 'I am Asish Kumar.\\n I like to do coding.\\n I like to do '\n",
    "    file.write(text)\n",
    "    file.close()\n",
    "## function to create folder\n",
    "def createfolder(folderName):\n",
    "    os.makedirs(folderName)\n",
    "   \n",
    "os.unlink('C:\\\\Users\\\\HP\\\\Desktop\\\\media\\\\Example1.txt') ## to delete a file\n",
    "print(os.path.exists('C:\\\\Users\\\\HP\\\\Desktop\\\\media\\\\Example1.txt'))\n",
    "createfile('C:\\\\Users\\\\HP\\\\Desktop\\\\media\\\\Example1.txt')\n",
    "print(os.path.exists('C:\\\\Users\\\\HP\\\\Desktop\\\\media\\\\Example1.txt'))\n",
    "l_dummy_dir = 'C:\\\\Users\\\\HP\\\\Desktop\\\\media\\\\DummyFolder'\n",
    "\n",
    "## to check directory exists or not\n",
    "if not os.path.isdir(l_dummy_dir) :\n",
    "    createfolder(l_dummy_dir)   \n",
    "print(os.path.isdir(l_dummy_dir))\n",
    "##os.rmdir(l_dummy_dir) ## command to remove direcotory\n",
    "shutil.rmtree(l_dummy_dir) ## to remove all the contents as well as directory of the given directory\n",
    "print(os.path.isdir(l_dummy_dir))\n",
    "createfolder(l_dummy_dir) \n",
    "print(os.path.isdir(l_dummy_dir))\n",
    "\n",
    "l_dummy_dir1 = 'C:\\\\Users\\\\HP\\\\Desktop\\\\media\\\\DummyFolder1\\\\Dump\\\\BadFolder'\n",
    "\n",
    "if not os.path.isdir(l_dummy_dir1) :\n",
    "    createfolder(l_dummy_dir1)   \n",
    "shutil.rmtree(l_dummy_dir1) ## to remove all the contents as well as directory of the given directory\n",
    "print(os.path.isdir(l_dummy_dir1))\n",
    "\n",
    "if not os.path.exists(l_dummy_dir1+'\\\\Example1.txt') :\n",
    "    createfile(l_dummy_dir1+'\\\\Example1.txt')\n",
    "send2trash.send2trash(l_dummy_dir1+'\\\\Example1.txt')\n",
    "print(os.path.exists(l_dummy_dir1+'\\\\Example1.txt'))\n",
    "\n",
    "\n"
   ]
  },
  {
   "cell_type": "code",
   "execution_count": null,
   "id": "7fed8390",
   "metadata": {},
   "outputs": [],
   "source": []
  },
  {
   "cell_type": "code",
   "execution_count": null,
   "id": "9ea4647b",
   "metadata": {},
   "outputs": [],
   "source": []
  },
  {
   "cell_type": "code",
   "execution_count": null,
   "id": "973bf6f6",
   "metadata": {},
   "outputs": [],
   "source": []
  }
 ],
 "metadata": {
  "kernelspec": {
   "display_name": "Python 3",
   "language": "python",
   "name": "python3"
  },
  "language_info": {
   "codemirror_mode": {
    "name": "ipython",
    "version": 3
   },
   "file_extension": ".py",
   "mimetype": "text/x-python",
   "name": "python",
   "nbconvert_exporter": "python",
   "pygments_lexer": "ipython3",
   "version": "3.8.8"
  }
 },
 "nbformat": 4,
 "nbformat_minor": 5
}
